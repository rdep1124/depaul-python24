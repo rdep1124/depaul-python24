{
 "cells": [
  {
   "cell_type": "markdown",
   "id": "5fb4d600",
   "metadata": {},
   "source": [
    "## Scraping non-tabular, multipage sites\n",
    "Scrape the top 500 <a href=\"https://bestsellingalbums.org/decade/2010\">best-selling albums of the 2010's</a>. Your data must include the following datapoints:\n",
    "\n",
    "- Name of album\n",
    "- Name of artist\n",
    "- Number of albums sold \n",
    "- The link to the page that breaks down sales by country (found by clicking album title)\n",
    "\n"
   ]
  },
  {
   "cell_type": "code",
   "execution_count": 1,
   "id": "ca905d74",
   "metadata": {},
   "outputs": [],
   "source": [
    "## create cells as needed"
   ]
  },
  {
   "cell_type": "code",
   "execution_count": 1,
   "id": "aaba252e",
   "metadata": {},
   "outputs": [],
   "source": [
    "import requests"
   ]
  },
  {
   "cell_type": "code",
   "execution_count": 2,
   "id": "5eab0093-d3c2-45f5-ae19-bac5a404ec5f",
   "metadata": {},
   "outputs": [],
   "source": [
    "import pandas as pd"
   ]
  },
  {
   "cell_type": "code",
   "execution_count": 68,
   "id": "31599e7c-f137-4af3-b398-fbdc1385ad01",
   "metadata": {},
   "outputs": [
    {
     "data": {
      "text/plain": [
       "200"
      ]
     },
     "execution_count": 68,
     "metadata": {},
     "output_type": "execute_result"
    }
   ],
   "source": [
    "response.status_code"
   ]
  },
  {
   "cell_type": "code",
   "execution_count": 69,
   "id": "055a45e2-38a9-4c21-b0cb-6cee6bfce051",
   "metadata": {},
   "outputs": [],
   "source": [
    "from bs4 import BeautifulSoup"
   ]
  },
  {
   "cell_type": "code",
   "execution_count": 70,
   "id": "74e9eabd-9970-4677-b692-bd90ab4b5ff6",
   "metadata": {},
   "outputs": [],
   "source": [
    "soup = BeautifulSoup(response.text, \"html.parser\")"
   ]
  },
  {
   "cell_type": "code",
   "execution_count": 71,
   "id": "c077d303-bc10-45ed-972c-3c7fe2a13ac6",
   "metadata": {},
   "outputs": [
    {
     "data": {
      "text/plain": [
       "'https://bestsellingalbums.org/decade/2010'"
      ]
     },
     "execution_count": 71,
     "metadata": {},
     "output_type": "execute_result"
    }
   ],
   "source": [
    "base_url = \"https://bestsellingalbums.org/decade/2010\"\n",
    "\n",
    "base_url"
   ]
  },
  {
   "cell_type": "code",
   "execution_count": 72,
   "id": "cf04e034-2016-416b-b868-79ff41002e58",
   "metadata": {},
   "outputs": [
    {
     "data": {
      "text/plain": [
       "['https://bestsellingalbums.org/decade/2010-2',\n",
       " 'https://bestsellingalbums.org/decade/2010-3',\n",
       " 'https://bestsellingalbums.org/decade/2010-4',\n",
       " 'https://bestsellingalbums.org/decade/2010-5',\n",
       " 'https://bestsellingalbums.org/decade/2010-6',\n",
       " 'https://bestsellingalbums.org/decade/2010-7',\n",
       " 'https://bestsellingalbums.org/decade/2010-8',\n",
       " 'https://bestsellingalbums.org/decade/2010-9',\n",
       " 'https://bestsellingalbums.org/decade/2010-10',\n",
       " 'https://bestsellingalbums.org/decade/2010']"
      ]
     },
     "execution_count": 72,
     "metadata": {},
     "output_type": "execute_result"
    }
   ],
   "source": [
    "urls_lc = [f\"{base_url}-{url_number}\" for url_number in range(2,11)]\n",
    "\n",
    "\n",
    "urls_lc.append(base_url)\n",
    "urls_lc"
   ]
  },
  {
   "cell_type": "code",
   "execution_count": 83,
   "id": "a948a19c-bd95-4b4a-be35-e88f864f902e",
   "metadata": {},
   "outputs": [
    {
     "name": "stdout",
     "output_type": "stream",
     "text": [
      "Scraping https://bestsellingalbums.org/decade/2010-2\n",
      "Scraping https://bestsellingalbums.org/decade/2010-3\n",
      "Scraping https://bestsellingalbums.org/decade/2010-4\n",
      "Scraping https://bestsellingalbums.org/decade/2010-5\n",
      "Scraping https://bestsellingalbums.org/decade/2010-6\n",
      "Scraping https://bestsellingalbums.org/decade/2010-7\n",
      "Scraping https://bestsellingalbums.org/decade/2010-8\n",
      "Scraping https://bestsellingalbums.org/decade/2010-9\n",
      "Scraping https://bestsellingalbums.org/decade/2010-10\n",
      "Scraping https://bestsellingalbums.org/decade/2010\n"
     ]
    }
   ],
   "source": [
    "album_data = []\n",
    "\n",
    "for url in urls_lc:\n",
    "    response = requests.get(url)\n",
    "    soup = BeautifulSoup(response.text, 'html.parser')\n",
    "    \n",
    "    print(f\"Scraping {url}\")\n",
    "    \n",
    "    album_name = soup.find('div', class_='album').get_text()\n",
    "    artist_name = soup.find('div', class_='artist').get_text()\n",
    "    albums_sold = soup.find('div', class_='sales').get_text()\n",
    "    sales_breakdown_link = soup.find('a', class_='album')['href'] if soup.find('a', class_='album') else 'N/A'\n",
    "    \n",
    "    album_data.append({\n",
    "        'Album Name': album_name,\n",
    "        'Artist Name': artist_name,\n",
    "        'Albums Sold': albums_sold,\n",
    "        'Sales Breakdown Link': sales_breakdown_link\n",
    "    })"
   ]
  },
  {
   "cell_type": "code",
   "execution_count": 84,
   "id": "5b9254c9-5f05-47bd-ab14-eff49687c2da",
   "metadata": {},
   "outputs": [],
   "source": [
    "album_data.append({\n",
    "        'Album Name': album_name,\n",
    "        'Artist Name': artist_name,\n",
    "        'Albums Sold': albums_sold,\n",
    "        'Sales Breakdown Link': sales_breakdown_link\n",
    "    })"
   ]
  },
  {
   "cell_type": "code",
   "execution_count": 85,
   "id": "ea2b0b8e-6320-4b36-9541-567fe7680a18",
   "metadata": {},
   "outputs": [
    {
     "data": {
      "text/html": [
       "<div>\n",
       "<style scoped>\n",
       "    .dataframe tbody tr th:only-of-type {\n",
       "        vertical-align: middle;\n",
       "    }\n",
       "\n",
       "    .dataframe tbody tr th {\n",
       "        vertical-align: top;\n",
       "    }\n",
       "\n",
       "    .dataframe thead th {\n",
       "        text-align: right;\n",
       "    }\n",
       "</style>\n",
       "<table border=\"1\" class=\"dataframe\">\n",
       "  <thead>\n",
       "    <tr style=\"text-align: right;\">\n",
       "      <th></th>\n",
       "      <th>Album Name</th>\n",
       "      <th>Artist Name</th>\n",
       "      <th>Albums Sold</th>\n",
       "      <th>Sales Breakdown Link</th>\n",
       "    </tr>\n",
       "  </thead>\n",
       "  <tbody>\n",
       "    <tr>\n",
       "      <th>0</th>\n",
       "      <td>ASTROWORLD</td>\n",
       "      <td>TRAVIS SCOTT</td>\n",
       "      <td>Sales: 5,337,811</td>\n",
       "      <td>N/A</td>\n",
       "    </tr>\n",
       "    <tr>\n",
       "      <th>1</th>\n",
       "      <td>MY BEAUTIFUL DARK TWISTED FANTASY</td>\n",
       "      <td>KANYE WEST</td>\n",
       "      <td>Sales: 3,613,000</td>\n",
       "      <td>N/A</td>\n",
       "    </tr>\n",
       "    <tr>\n",
       "      <th>2</th>\n",
       "      <td>FROZEN 2</td>\n",
       "      <td>SOUNDTRACK</td>\n",
       "      <td>Sales: 2,642,792</td>\n",
       "      <td>N/A</td>\n",
       "    </tr>\n",
       "    <tr>\n",
       "      <th>3</th>\n",
       "      <td>WHAT A TIME TO BE ALIVE</td>\n",
       "      <td>DRAKE &amp; FUTURE</td>\n",
       "      <td>Sales: 2,190,000</td>\n",
       "      <td>N/A</td>\n",
       "    </tr>\n",
       "    <tr>\n",
       "      <th>4</th>\n",
       "      <td>I AM NOT A HUMAN BEING</td>\n",
       "      <td>LIL WAYNE</td>\n",
       "      <td>Sales: 2,000,000</td>\n",
       "      <td>N/A</td>\n",
       "    </tr>\n",
       "    <tr>\n",
       "      <th>5</th>\n",
       "      <td>KENDJI</td>\n",
       "      <td>KENDJI GIRAC</td>\n",
       "      <td>Sales: 1,540,000</td>\n",
       "      <td>N/A</td>\n",
       "    </tr>\n",
       "    <tr>\n",
       "      <th>6</th>\n",
       "      <td>Π-VOLUME.2 [3 track EP]</td>\n",
       "      <td>LU HAN (鹿晗)</td>\n",
       "      <td>Sales: 1,320,343</td>\n",
       "      <td>N/A</td>\n",
       "    </tr>\n",
       "    <tr>\n",
       "      <th>7</th>\n",
       "      <td>AWAKEN, MY LOVE</td>\n",
       "      <td>CHILDISH GAMBINO</td>\n",
       "      <td>Sales: 1,200,000</td>\n",
       "      <td>N/A</td>\n",
       "    </tr>\n",
       "    <tr>\n",
       "      <th>8</th>\n",
       "      <td>I AM &gt; I WAS</td>\n",
       "      <td>21 SAVAGE</td>\n",
       "      <td>Sales: 1,110,000</td>\n",
       "      <td>N/A</td>\n",
       "    </tr>\n",
       "    <tr>\n",
       "      <th>9</th>\n",
       "      <td>21</td>\n",
       "      <td>ADELE</td>\n",
       "      <td>Sales: 30,000,000</td>\n",
       "      <td>N/A</td>\n",
       "    </tr>\n",
       "    <tr>\n",
       "      <th>10</th>\n",
       "      <td>21</td>\n",
       "      <td>ADELE</td>\n",
       "      <td>Sales: 30,000,000</td>\n",
       "      <td>N/A</td>\n",
       "    </tr>\n",
       "  </tbody>\n",
       "</table>\n",
       "</div>"
      ],
      "text/plain": [
       "                           Album Name       Artist Name        Albums Sold  \\\n",
       "0                          ASTROWORLD      TRAVIS SCOTT   Sales: 5,337,811   \n",
       "1   MY BEAUTIFUL DARK TWISTED FANTASY        KANYE WEST   Sales: 3,613,000   \n",
       "2                            FROZEN 2        SOUNDTRACK   Sales: 2,642,792   \n",
       "3             WHAT A TIME TO BE ALIVE    DRAKE & FUTURE   Sales: 2,190,000   \n",
       "4              I AM NOT A HUMAN BEING         LIL WAYNE   Sales: 2,000,000   \n",
       "5                              KENDJI      KENDJI GIRAC   Sales: 1,540,000   \n",
       "6             Π-VOLUME.2 [3 track EP]       LU HAN (鹿晗)   Sales: 1,320,343   \n",
       "7                     AWAKEN, MY LOVE  CHILDISH GAMBINO   Sales: 1,200,000   \n",
       "8                        I AM > I WAS         21 SAVAGE   Sales: 1,110,000   \n",
       "9                                  21             ADELE  Sales: 30,000,000   \n",
       "10                                 21             ADELE  Sales: 30,000,000   \n",
       "\n",
       "   Sales Breakdown Link  \n",
       "0                   N/A  \n",
       "1                   N/A  \n",
       "2                   N/A  \n",
       "3                   N/A  \n",
       "4                   N/A  \n",
       "5                   N/A  \n",
       "6                   N/A  \n",
       "7                   N/A  \n",
       "8                   N/A  \n",
       "9                   N/A  \n",
       "10                  N/A  "
      ]
     },
     "execution_count": 85,
     "metadata": {},
     "output_type": "execute_result"
    }
   ],
   "source": [
    "df = pd.DataFrame(album_data)\n",
    "\n",
    "df"
   ]
  },
  {
   "cell_type": "code",
   "execution_count": null,
   "id": "2713078b-6e52-4d7f-a8a9-4cc6ca3ab4f5",
   "metadata": {},
   "outputs": [],
   "source": []
  },
  {
   "cell_type": "code",
   "execution_count": null,
   "id": "f96cce98-4603-479f-be58-02e376b06b2c",
   "metadata": {},
   "outputs": [],
   "source": []
  },
  {
   "cell_type": "code",
   "execution_count": null,
   "id": "fa33a5f2-929f-4c43-9fac-ef353b732afb",
   "metadata": {},
   "outputs": [],
   "source": []
  }
 ],
 "metadata": {
  "kernelspec": {
   "display_name": "Python 3 (ipykernel)",
   "language": "python",
   "name": "python3"
  },
  "language_info": {
   "codemirror_mode": {
    "name": "ipython",
    "version": 3
   },
   "file_extension": ".py",
   "mimetype": "text/x-python",
   "name": "python",
   "nbconvert_exporter": "python",
   "pygments_lexer": "ipython3",
   "version": "3.12.2"
  }
 },
 "nbformat": 4,
 "nbformat_minor": 5
}
