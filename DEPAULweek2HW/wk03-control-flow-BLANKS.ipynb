{
 "cells": [
  {
   "cell_type": "markdown",
   "id": "a50b15cc",
   "metadata": {},
   "source": [
    "## Q. 1\n",
    "You have a dataset that contains temperature data recorded daily over a month for a fictious city. Categorize the temperature into different levels based on the following conditions:\n",
    "\n",
    "- \"Cold\" if the temperature is 50°F and below.\n",
    "- \"Cool\" if the temperature is above 50°F but below 68°F.\n",
    "- \"Warm\" if the temperature is 68°F and above but less than 86°F.\n",
    "- \"Hot\" if the temperature is 86°F and above.\n",
    "\n",
    "Print the result in the format ```Temperature X°F: whatever Category```\n"
   ]
  },
  {
   "cell_type": "code",
   "execution_count": 1,
   "id": "8ac2e955",
   "metadata": {},
   "outputs": [],
   "source": [
    "### dataset of temperatures:\n",
    "\n",
    "temps = [45, 52, 68, 73, 89, 47, 55, 81, 66,\n",
    "         77, 58, 62, 91, 49, 72, 85, 40, 63, 87, 53,\n",
    "         78, 60, 44, 59, 75, 90, 56, 48, 67, 82]"
   ]
  },
  {
   "cell_type": "code",
   "execution_count": 6,
   "id": "66c0e600",
   "metadata": {},
   "outputs": [
    {
     "name": "stdout",
     "output_type": "stream",
     "text": [
      "Temperature 45°F: Cold\n",
      "Temperature 52°F: Cool\n",
      "Temperature 68°F: Hot\n",
      "Temperature 73°F: Warm\n",
      "Temperature 89°F: Hot\n",
      "Temperature 47°F: Cold\n",
      "Temperature 55°F: Cool\n",
      "Temperature 81°F: Warm\n",
      "Temperature 66°F: Cool\n",
      "Temperature 77°F: Warm\n",
      "Temperature 58°F: Cool\n",
      "Temperature 62°F: Cool\n",
      "Temperature 91°F: Hot\n",
      "Temperature 49°F: Cold\n",
      "Temperature 72°F: Warm\n",
      "Temperature 85°F: Warm\n",
      "Temperature 40°F: Cold\n",
      "Temperature 63°F: Cool\n",
      "Temperature 87°F: Hot\n",
      "Temperature 53°F: Cool\n",
      "Temperature 78°F: Warm\n",
      "Temperature 60°F: Cool\n",
      "Temperature 44°F: Cold\n",
      "Temperature 59°F: Cool\n",
      "Temperature 75°F: Warm\n",
      "Temperature 90°F: Hot\n",
      "Temperature 56°F: Cool\n",
      "Temperature 48°F: Cold\n",
      "Temperature 67°F: Cool\n",
      "Temperature 82°F: Warm\n"
     ]
    }
   ],
   "source": [
    "## code it here \n",
    "\n",
    "for temp in temps:\n",
    "    if temp <= 50:\n",
    "        print(f\"Temperature {temp}°F: Cold\")\n",
    "    elif 50 < temp < 68:\n",
    "        print(f\"Temperature {temp}°F: Cool\")\n",
    "    elif 68 < temp < 86: \n",
    "        print(f\"Temperature {temp}°F: Warm\")\n",
    "    else:\n",
    "        print(f\"Temperature {temp}°F: Hot\")"
   ]
  },
  {
   "cell_type": "markdown",
   "id": "ea7e9b9c",
   "metadata": {},
   "source": [
    "## Q. 2\n",
    "\n",
    "Now instead of printing the results, create a list of dictionaries in which each dictionary holds the key-value pairs of ```{\"temp\": temp_value}```"
   ]
  },
  {
   "cell_type": "code",
   "execution_count": 14,
   "id": "0947a342",
   "metadata": {},
   "outputs": [
    {
     "name": "stdout",
     "output_type": "stream",
     "text": [
      "Temperature 45°F: Cold\n",
      "Temperature 52°F: Cool\n",
      "Temperature 68°F: Hot\n",
      "Temperature 73°F: Warm\n",
      "Temperature 89°F: Hot\n",
      "Temperature 47°F: Cold\n",
      "Temperature 55°F: Cool\n",
      "Temperature 81°F: Warm\n",
      "Temperature 66°F: Cool\n",
      "Temperature 77°F: Warm\n",
      "Temperature 58°F: Cool\n",
      "Temperature 62°F: Cool\n",
      "Temperature 91°F: Hot\n",
      "Temperature 49°F: Cold\n",
      "Temperature 72°F: Warm\n",
      "Temperature 85°F: Warm\n",
      "Temperature 40°F: Cold\n",
      "Temperature 63°F: Cool\n",
      "Temperature 87°F: Hot\n",
      "Temperature 53°F: Cool\n",
      "Temperature 78°F: Warm\n",
      "Temperature 60°F: Cool\n",
      "Temperature 44°F: Cold\n",
      "Temperature 59°F: Cool\n",
      "Temperature 75°F: Warm\n",
      "Temperature 90°F: Hot\n",
      "Temperature 56°F: Cool\n",
      "Temperature 48°F: Cold\n",
      "Temperature 67°F: Cool\n",
      "Temperature 82°F: Warm\n"
     ]
    },
    {
     "data": {
      "text/plain": [
       "['Cold',\n",
       " 'Cool',\n",
       " 'Hot',\n",
       " 'Warm',\n",
       " 'Hot',\n",
       " 'Cold',\n",
       " 'Cool',\n",
       " 'Warm',\n",
       " 'Cool',\n",
       " 'Warm',\n",
       " 'Cool',\n",
       " 'Cool',\n",
       " 'Hot',\n",
       " 'Cold',\n",
       " 'Warm',\n",
       " 'Warm',\n",
       " 'Cold',\n",
       " 'Cool',\n",
       " 'Hot',\n",
       " 'Cool',\n",
       " 'Warm',\n",
       " 'Cool',\n",
       " 'Cold',\n",
       " 'Cool',\n",
       " 'Warm',\n",
       " 'Hot',\n",
       " 'Cool',\n",
       " 'Cold',\n",
       " 'Cool',\n",
       " 'Warm']"
      ]
     },
     "execution_count": 14,
     "metadata": {},
     "output_type": "execute_result"
    }
   ],
   "source": [
    "## code it here\n",
    "\n",
    "temp_values = []\n",
    "\n",
    "for temp in temps:\n",
    "    if temp <= 50:\n",
    "        print(f\"Temperature {temp}°F: Cold\")\n",
    "        temp_values.append(\"Cold\")\n",
    "    elif 50 < temp < 68:\n",
    "        print(f\"Temperature {temp}°F: Cool\")\n",
    "        temp_values.append(\"Cool\")\n",
    "    elif 68 < temp < 86: \n",
    "        print(f\"Temperature {temp}°F: Warm\")\n",
    "        temp_values.append(\"Warm\")\n",
    "    else:\n",
    "        print(f\"Temperature {temp}°F: Hot\")\n",
    "        temp_values.append(\"Hot\")\n",
    "\n",
    "temp_values"
   ]
  },
  {
   "cell_type": "code",
   "execution_count": 21,
   "id": "3ebef21b-644b-4592-8477-771ca639092e",
   "metadata": {},
   "outputs": [
    {
     "data": {
      "text/plain": [
       "{45: 'Cold',\n",
       " 52: 'Cool',\n",
       " 68: 'Hot',\n",
       " 73: 'Warm',\n",
       " 89: 'Hot',\n",
       " 47: 'Cold',\n",
       " 55: 'Cool',\n",
       " 81: 'Warm',\n",
       " 66: 'Cool',\n",
       " 77: 'Warm',\n",
       " 58: 'Cool',\n",
       " 62: 'Cool',\n",
       " 91: 'Hot',\n",
       " 49: 'Cold',\n",
       " 72: 'Warm',\n",
       " 85: 'Warm',\n",
       " 40: 'Cold',\n",
       " 63: 'Cool',\n",
       " 87: 'Hot',\n",
       " 53: 'Cool',\n",
       " 78: 'Warm',\n",
       " 60: 'Cool',\n",
       " 44: 'Cold',\n",
       " 59: 'Cool',\n",
       " 75: 'Warm',\n",
       " 90: 'Hot',\n",
       " 56: 'Cool',\n",
       " 48: 'Cold',\n",
       " 67: 'Cool',\n",
       " 82: 'Warm'}"
      ]
     },
     "execution_count": 21,
     "metadata": {},
     "output_type": "execute_result"
    }
   ],
   "source": [
    "temp_dict = dict(zip(temps, temp_values))\n",
    "\n",
    "temp_dict"
   ]
  },
  {
   "cell_type": "markdown",
   "id": "46a15fb0",
   "metadata": {},
   "source": [
    "## Q. 3\n",
    "\n",
    "You have several lists that hold related data points. **Dynamically** create a list of dictionaries that hold each as a set of values. For example, your list of dictionaries should look like:\n",
    "\n",
    "```[{\"first_name\": \"Irene\", \"last_name\": \"Rosenfeld\", \"title\": \"Chair and CEO\", \"company\": \"Kraft Foods\", \"industry\": \"Food and Beverage\"}, ...NEXT dictionary]```\n",
    "\n",
    "**Dynamically** means don't manually create the dictionaries. Use programming to create your dictionaries."
   ]
  },
  {
   "cell_type": "code",
   "execution_count": 24,
   "id": "b88860fe",
   "metadata": {},
   "outputs": [],
   "source": [
    "## ##  RUN THIS CELL - \n",
    "## Here we have a list of CEOs and their relevant data points.\n",
    "first_names = [\"Irene\", \"Ursula\", \"Elon\", \"Tim\"]\n",
    "last_names = [\"Rosenfeld\", \"Burns\", \"Musk\", \"Cook\"]\n",
    "titles = [\"Chair and CEO\", \"Chair and CEO\", \"CEO\", \"CEO\"]\n",
    "companies = [\"Kraft Foods\", \"Xerox\", \"Tesla\", \"Apple\"]\n",
    "industries = [\"Food and Beverage\", \"Process and Document Management\",\n",
    "              \"Auto Manufacturing\", \"Consumer Technology\"]"
   ]
  },
  {
   "cell_type": "code",
   "execution_count": 32,
   "id": "49d85a56",
   "metadata": {},
   "outputs": [
    {
     "name": "stdout",
     "output_type": "stream",
     "text": [
      "[{'first_name': 'Irene', 'last_name': 'Rosenfeld', 'title': 'Chair and CEO', 'company': 'Kraft Foods', 'industry': 'Food and Beverage'}, {'first_name': 'Ursula', 'last_name': 'Burns', 'title': 'Chair and CEO', 'company': 'Xerox', 'industry': 'Process and Document Management'}, {'first_name': 'Elon', 'last_name': 'Musk', 'title': 'CEO', 'company': 'Tesla', 'industry': 'Auto Manufacturing'}, {'first_name': 'Tim', 'last_name': 'Cook', 'title': 'CEO', 'company': 'Apple', 'industry': 'Consumer Technology'}]\n"
     ]
    }
   ],
   "source": [
    "## code it here\n",
    "\n",
    "ceo_list = [\n",
    "    {\n",
    "        \"first_name\": first_name,\n",
    "        \"last_name\": last_name,\n",
    "        \"title\": title,\n",
    "        \"company\": company,\n",
    "        \"industry\": industry\n",
    "    }\n",
    "    for first_name, last_name, title, company, industry in zip(first_names, last_names, titles, companies, industries)\n",
    "]\n",
    "\n",
    "print(ceo_list)"
   ]
  },
  {
   "cell_type": "code",
   "execution_count": 33,
   "id": "7ff41f9d-5520-4dfb-9ccd-4f07a6f9a6fa",
   "metadata": {},
   "outputs": [
    {
     "data": {
      "text/plain": [
       "[{'first_name': 'Irene',\n",
       "  'last_name': 'Rosenfeld',\n",
       "  'title': 'Chair and CEO',\n",
       "  'company': 'Kraft Foods',\n",
       "  'industry': 'Food and Beverage'},\n",
       " {'first_name': 'Ursula',\n",
       "  'last_name': 'Burns',\n",
       "  'title': 'Chair and CEO',\n",
       "  'company': 'Xerox',\n",
       "  'industry': 'Process and Document Management'},\n",
       " {'first_name': 'Elon',\n",
       "  'last_name': 'Musk',\n",
       "  'title': 'CEO',\n",
       "  'company': 'Tesla',\n",
       "  'industry': 'Auto Manufacturing'},\n",
       " {'first_name': 'Tim',\n",
       "  'last_name': 'Cook',\n",
       "  'title': 'CEO',\n",
       "  'company': 'Apple',\n",
       "  'industry': 'Consumer Technology'}]"
      ]
     },
     "execution_count": 33,
     "metadata": {},
     "output_type": "execute_result"
    }
   ],
   "source": [
    "ceo_list"
   ]
  },
  {
   "cell_type": "code",
   "execution_count": null,
   "id": "ac43339f-7726-46b7-9947-68a251c93324",
   "metadata": {},
   "outputs": [],
   "source": []
  }
 ],
 "metadata": {
  "kernelspec": {
   "display_name": "Python 3 (ipykernel)",
   "language": "python",
   "name": "python3"
  },
  "language_info": {
   "codemirror_mode": {
    "name": "ipython",
    "version": 3
   },
   "file_extension": ".py",
   "mimetype": "text/x-python",
   "name": "python",
   "nbconvert_exporter": "python",
   "pygments_lexer": "ipython3",
   "version": "3.12.2"
  }
 },
 "nbformat": 4,
 "nbformat_minor": 5
}
