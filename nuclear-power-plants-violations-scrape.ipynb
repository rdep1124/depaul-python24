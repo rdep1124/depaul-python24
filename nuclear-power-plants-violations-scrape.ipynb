{
 "cells": [
  {
   "cell_type": "code",
   "execution_count": 50,
   "id": "3e9f3e15-ca03-4d87-a12f-ba3686823c47",
   "metadata": {},
   "outputs": [],
   "source": [
    "import regex as re\n",
    "import pandas as pd\n",
    "import glob\n",
    "import tabula\n",
    "import pymupdf4llm\n",
    "import requests\n",
    "import fitz  # PyMuPDF"
   ]
  },
  {
   "cell_type": "code",
   "execution_count": 37,
   "id": "5333d760-fb23-4605-aad5-30cd6b375b5f",
   "metadata": {},
   "outputs": [
    {
     "name": "stdout",
     "output_type": "stream",
     "text": [
      "Requirement already satisfied: pymupdf4llm in /Users/ray/Library/jupyterlab-desktop/jlab_server/lib/python3.12/site-packages (0.0.17)\n",
      "Requirement already satisfied: pymupdf>=1.24.10 in /Users/ray/Library/jupyterlab-desktop/jlab_server/lib/python3.12/site-packages (from pymupdf4llm) (1.24.13)\n"
     ]
    }
   ],
   "source": [
    "!pip install pymupdf4llm"
   ]
  },
  {
   "cell_type": "code",
   "execution_count": 38,
   "id": "092e5deb-6288-4a3f-a5a9-9cb986633227",
   "metadata": {},
   "outputs": [],
   "source": [
    "base_url = \"https://adamswebsearch2.nrc.gov/webSearch2/main.jsp?AccessionNumber=\""
   ]
  },
  {
   "cell_type": "code",
   "execution_count": 39,
   "id": "97cd5f1a-efbf-48a2-8535-4819cecdbd9a",
   "metadata": {},
   "outputs": [],
   "source": [
    "inspection_ids = [\"ML23129A788\", \"ML23067A022\", \"ML23128A148\", \"ML23124A225\", \"ML23082A034\", \"ML23067A024\", \"ML23115A000\", \"ML23048A062\", \"ML23122A221\", \"ML23128A351\", \"ML23089A119\", \"ML23108A332\", \"ML23124A386\", \"ML23088A167\", \"ML23102A139\", \"ML23114A173\", \"ML23059A274\", \"ML23114A383\", \"ML23124A007\", \"ML23123A414\", \"ML23054A359\", \"ML23122A076\", \"ML23089A166\", \"ML23080A298\", \"ML23102A149\", \"ML23023A058\", \"ML23060A158\", \"ML23101A121\", \"ML23074A227\", \"ML23030B899\", \"ML23122A100\", \"ML23116A173\", \"ML23025A407\", \"ML23072A423\", \"ML23068A069\", \"ML23121A139\", \"ML23023A100\", \"ML23110A634\", \"ML23116A242\", \"ML23068A150\", \"ML23124A273\", \"ML23089A399\", \"ML23089A355\", \"ML23102A039\", \"ML23122A168\", \"ML23044A155\", \"ML23075A135\", \"ML23095A085\", \"ML23123A168\", \"ML23116A012\", \"ML23062A449\", \"ML23110A800\", \"ML23095A332\", \"ML23089A021\", \"ML23073A029\", \"ML23129A251\", \"ML23111A294\", \"ML23118A051\", \"ML23116A003\", \"ML23130A218\", \"ML23038A012\", \"ML23118A027\", \"ML23118A014\", \"ML23125A125\", \"ML23026A048\", \"ML23122A162\", \"ML23124A108\", \"ML23125A005\", \"ML23118A017\", \"ML23104A043\", \"ML23130A412\", \"ML23088A360\", \"ML23053A079\", \"ML23124A062\", \"ML23103A264\", \"ML23086A209\", \"ML23069A019\", \"ML23128A135\", \"ML23122A272\", \"ML23053A049\", \"ML23053A049\", \"ML23121A104\", \"ML23130A172\", \"ML23128A101\", \"ML23102A294\", \"ML23116A235\", \"ML23121A172\", \"ML23075A146\", \"ML23123A065\", \"ML23066A013\", \"ML23122A217\", \"ML23052A056\", \"ML23129A193\", \"ML23103A395\", \"ML23044A099\", \"ML23102A113\", \"ML23033A155\", \"ML23121A321\", \"ML23074A192\", \"ML23121A105\", \"ML23110A664\", \"ML23032A427\", \"ML23075A170\", \"ML23114A094\", \"ML23131A351\", \"ML23123A122\", \"ML23132A143\", \"ML23132A307\", \"ML23047A033\", \"ML23114A048\", \"ML23121A320\", \"ML23129A022\", \"ML23107A171\", \"ML23025A384\", \"ML23110A762\", \"ML23068A133\", \"ML23123A054\", \"ML23032A374\", \"ML23102A200\", \"ML23111A066\"]"
   ]
  },
  {
   "cell_type": "code",
   "execution_count": 40,
   "id": "ef283977-3752-4a18-b6cf-e517e4bdb043",
   "metadata": {
    "scrolled": true
   },
   "outputs": [
    {
     "data": {
      "text/plain": [
       "['https://adamswebsearch2.nrc.gov/webSearch2/main.jsp?AccessionNumber=ML23129A788',\n",
       " 'https://adamswebsearch2.nrc.gov/webSearch2/main.jsp?AccessionNumber=ML23067A022',\n",
       " 'https://adamswebsearch2.nrc.gov/webSearch2/main.jsp?AccessionNumber=ML23128A148',\n",
       " 'https://adamswebsearch2.nrc.gov/webSearch2/main.jsp?AccessionNumber=ML23124A225',\n",
       " 'https://adamswebsearch2.nrc.gov/webSearch2/main.jsp?AccessionNumber=ML23082A034',\n",
       " 'https://adamswebsearch2.nrc.gov/webSearch2/main.jsp?AccessionNumber=ML23067A024',\n",
       " 'https://adamswebsearch2.nrc.gov/webSearch2/main.jsp?AccessionNumber=ML23115A000',\n",
       " 'https://adamswebsearch2.nrc.gov/webSearch2/main.jsp?AccessionNumber=ML23048A062',\n",
       " 'https://adamswebsearch2.nrc.gov/webSearch2/main.jsp?AccessionNumber=ML23122A221',\n",
       " 'https://adamswebsearch2.nrc.gov/webSearch2/main.jsp?AccessionNumber=ML23128A351',\n",
       " 'https://adamswebsearch2.nrc.gov/webSearch2/main.jsp?AccessionNumber=ML23089A119',\n",
       " 'https://adamswebsearch2.nrc.gov/webSearch2/main.jsp?AccessionNumber=ML23108A332',\n",
       " 'https://adamswebsearch2.nrc.gov/webSearch2/main.jsp?AccessionNumber=ML23124A386',\n",
       " 'https://adamswebsearch2.nrc.gov/webSearch2/main.jsp?AccessionNumber=ML23088A167',\n",
       " 'https://adamswebsearch2.nrc.gov/webSearch2/main.jsp?AccessionNumber=ML23102A139',\n",
       " 'https://adamswebsearch2.nrc.gov/webSearch2/main.jsp?AccessionNumber=ML23114A173',\n",
       " 'https://adamswebsearch2.nrc.gov/webSearch2/main.jsp?AccessionNumber=ML23059A274',\n",
       " 'https://adamswebsearch2.nrc.gov/webSearch2/main.jsp?AccessionNumber=ML23114A383',\n",
       " 'https://adamswebsearch2.nrc.gov/webSearch2/main.jsp?AccessionNumber=ML23124A007',\n",
       " 'https://adamswebsearch2.nrc.gov/webSearch2/main.jsp?AccessionNumber=ML23123A414',\n",
       " 'https://adamswebsearch2.nrc.gov/webSearch2/main.jsp?AccessionNumber=ML23054A359',\n",
       " 'https://adamswebsearch2.nrc.gov/webSearch2/main.jsp?AccessionNumber=ML23122A076',\n",
       " 'https://adamswebsearch2.nrc.gov/webSearch2/main.jsp?AccessionNumber=ML23089A166',\n",
       " 'https://adamswebsearch2.nrc.gov/webSearch2/main.jsp?AccessionNumber=ML23080A298',\n",
       " 'https://adamswebsearch2.nrc.gov/webSearch2/main.jsp?AccessionNumber=ML23102A149',\n",
       " 'https://adamswebsearch2.nrc.gov/webSearch2/main.jsp?AccessionNumber=ML23023A058',\n",
       " 'https://adamswebsearch2.nrc.gov/webSearch2/main.jsp?AccessionNumber=ML23060A158',\n",
       " 'https://adamswebsearch2.nrc.gov/webSearch2/main.jsp?AccessionNumber=ML23101A121',\n",
       " 'https://adamswebsearch2.nrc.gov/webSearch2/main.jsp?AccessionNumber=ML23074A227',\n",
       " 'https://adamswebsearch2.nrc.gov/webSearch2/main.jsp?AccessionNumber=ML23030B899',\n",
       " 'https://adamswebsearch2.nrc.gov/webSearch2/main.jsp?AccessionNumber=ML23122A100',\n",
       " 'https://adamswebsearch2.nrc.gov/webSearch2/main.jsp?AccessionNumber=ML23116A173',\n",
       " 'https://adamswebsearch2.nrc.gov/webSearch2/main.jsp?AccessionNumber=ML23025A407',\n",
       " 'https://adamswebsearch2.nrc.gov/webSearch2/main.jsp?AccessionNumber=ML23072A423',\n",
       " 'https://adamswebsearch2.nrc.gov/webSearch2/main.jsp?AccessionNumber=ML23068A069',\n",
       " 'https://adamswebsearch2.nrc.gov/webSearch2/main.jsp?AccessionNumber=ML23121A139',\n",
       " 'https://adamswebsearch2.nrc.gov/webSearch2/main.jsp?AccessionNumber=ML23023A100',\n",
       " 'https://adamswebsearch2.nrc.gov/webSearch2/main.jsp?AccessionNumber=ML23110A634',\n",
       " 'https://adamswebsearch2.nrc.gov/webSearch2/main.jsp?AccessionNumber=ML23116A242',\n",
       " 'https://adamswebsearch2.nrc.gov/webSearch2/main.jsp?AccessionNumber=ML23068A150',\n",
       " 'https://adamswebsearch2.nrc.gov/webSearch2/main.jsp?AccessionNumber=ML23124A273',\n",
       " 'https://adamswebsearch2.nrc.gov/webSearch2/main.jsp?AccessionNumber=ML23089A399',\n",
       " 'https://adamswebsearch2.nrc.gov/webSearch2/main.jsp?AccessionNumber=ML23089A355',\n",
       " 'https://adamswebsearch2.nrc.gov/webSearch2/main.jsp?AccessionNumber=ML23102A039',\n",
       " 'https://adamswebsearch2.nrc.gov/webSearch2/main.jsp?AccessionNumber=ML23122A168',\n",
       " 'https://adamswebsearch2.nrc.gov/webSearch2/main.jsp?AccessionNumber=ML23044A155',\n",
       " 'https://adamswebsearch2.nrc.gov/webSearch2/main.jsp?AccessionNumber=ML23075A135',\n",
       " 'https://adamswebsearch2.nrc.gov/webSearch2/main.jsp?AccessionNumber=ML23095A085',\n",
       " 'https://adamswebsearch2.nrc.gov/webSearch2/main.jsp?AccessionNumber=ML23123A168',\n",
       " 'https://adamswebsearch2.nrc.gov/webSearch2/main.jsp?AccessionNumber=ML23116A012',\n",
       " 'https://adamswebsearch2.nrc.gov/webSearch2/main.jsp?AccessionNumber=ML23062A449',\n",
       " 'https://adamswebsearch2.nrc.gov/webSearch2/main.jsp?AccessionNumber=ML23110A800',\n",
       " 'https://adamswebsearch2.nrc.gov/webSearch2/main.jsp?AccessionNumber=ML23095A332',\n",
       " 'https://adamswebsearch2.nrc.gov/webSearch2/main.jsp?AccessionNumber=ML23089A021',\n",
       " 'https://adamswebsearch2.nrc.gov/webSearch2/main.jsp?AccessionNumber=ML23073A029',\n",
       " 'https://adamswebsearch2.nrc.gov/webSearch2/main.jsp?AccessionNumber=ML23129A251',\n",
       " 'https://adamswebsearch2.nrc.gov/webSearch2/main.jsp?AccessionNumber=ML23111A294',\n",
       " 'https://adamswebsearch2.nrc.gov/webSearch2/main.jsp?AccessionNumber=ML23118A051',\n",
       " 'https://adamswebsearch2.nrc.gov/webSearch2/main.jsp?AccessionNumber=ML23116A003',\n",
       " 'https://adamswebsearch2.nrc.gov/webSearch2/main.jsp?AccessionNumber=ML23130A218',\n",
       " 'https://adamswebsearch2.nrc.gov/webSearch2/main.jsp?AccessionNumber=ML23038A012',\n",
       " 'https://adamswebsearch2.nrc.gov/webSearch2/main.jsp?AccessionNumber=ML23118A027',\n",
       " 'https://adamswebsearch2.nrc.gov/webSearch2/main.jsp?AccessionNumber=ML23118A014',\n",
       " 'https://adamswebsearch2.nrc.gov/webSearch2/main.jsp?AccessionNumber=ML23125A125',\n",
       " 'https://adamswebsearch2.nrc.gov/webSearch2/main.jsp?AccessionNumber=ML23026A048',\n",
       " 'https://adamswebsearch2.nrc.gov/webSearch2/main.jsp?AccessionNumber=ML23122A162',\n",
       " 'https://adamswebsearch2.nrc.gov/webSearch2/main.jsp?AccessionNumber=ML23124A108',\n",
       " 'https://adamswebsearch2.nrc.gov/webSearch2/main.jsp?AccessionNumber=ML23125A005',\n",
       " 'https://adamswebsearch2.nrc.gov/webSearch2/main.jsp?AccessionNumber=ML23118A017',\n",
       " 'https://adamswebsearch2.nrc.gov/webSearch2/main.jsp?AccessionNumber=ML23104A043',\n",
       " 'https://adamswebsearch2.nrc.gov/webSearch2/main.jsp?AccessionNumber=ML23130A412',\n",
       " 'https://adamswebsearch2.nrc.gov/webSearch2/main.jsp?AccessionNumber=ML23088A360',\n",
       " 'https://adamswebsearch2.nrc.gov/webSearch2/main.jsp?AccessionNumber=ML23053A079',\n",
       " 'https://adamswebsearch2.nrc.gov/webSearch2/main.jsp?AccessionNumber=ML23124A062',\n",
       " 'https://adamswebsearch2.nrc.gov/webSearch2/main.jsp?AccessionNumber=ML23103A264',\n",
       " 'https://adamswebsearch2.nrc.gov/webSearch2/main.jsp?AccessionNumber=ML23086A209',\n",
       " 'https://adamswebsearch2.nrc.gov/webSearch2/main.jsp?AccessionNumber=ML23069A019',\n",
       " 'https://adamswebsearch2.nrc.gov/webSearch2/main.jsp?AccessionNumber=ML23128A135',\n",
       " 'https://adamswebsearch2.nrc.gov/webSearch2/main.jsp?AccessionNumber=ML23122A272',\n",
       " 'https://adamswebsearch2.nrc.gov/webSearch2/main.jsp?AccessionNumber=ML23053A049',\n",
       " 'https://adamswebsearch2.nrc.gov/webSearch2/main.jsp?AccessionNumber=ML23053A049',\n",
       " 'https://adamswebsearch2.nrc.gov/webSearch2/main.jsp?AccessionNumber=ML23121A104',\n",
       " 'https://adamswebsearch2.nrc.gov/webSearch2/main.jsp?AccessionNumber=ML23130A172',\n",
       " 'https://adamswebsearch2.nrc.gov/webSearch2/main.jsp?AccessionNumber=ML23128A101',\n",
       " 'https://adamswebsearch2.nrc.gov/webSearch2/main.jsp?AccessionNumber=ML23102A294',\n",
       " 'https://adamswebsearch2.nrc.gov/webSearch2/main.jsp?AccessionNumber=ML23116A235',\n",
       " 'https://adamswebsearch2.nrc.gov/webSearch2/main.jsp?AccessionNumber=ML23121A172',\n",
       " 'https://adamswebsearch2.nrc.gov/webSearch2/main.jsp?AccessionNumber=ML23075A146',\n",
       " 'https://adamswebsearch2.nrc.gov/webSearch2/main.jsp?AccessionNumber=ML23123A065',\n",
       " 'https://adamswebsearch2.nrc.gov/webSearch2/main.jsp?AccessionNumber=ML23066A013',\n",
       " 'https://adamswebsearch2.nrc.gov/webSearch2/main.jsp?AccessionNumber=ML23122A217',\n",
       " 'https://adamswebsearch2.nrc.gov/webSearch2/main.jsp?AccessionNumber=ML23052A056',\n",
       " 'https://adamswebsearch2.nrc.gov/webSearch2/main.jsp?AccessionNumber=ML23129A193',\n",
       " 'https://adamswebsearch2.nrc.gov/webSearch2/main.jsp?AccessionNumber=ML23103A395',\n",
       " 'https://adamswebsearch2.nrc.gov/webSearch2/main.jsp?AccessionNumber=ML23044A099',\n",
       " 'https://adamswebsearch2.nrc.gov/webSearch2/main.jsp?AccessionNumber=ML23102A113',\n",
       " 'https://adamswebsearch2.nrc.gov/webSearch2/main.jsp?AccessionNumber=ML23033A155',\n",
       " 'https://adamswebsearch2.nrc.gov/webSearch2/main.jsp?AccessionNumber=ML23121A321',\n",
       " 'https://adamswebsearch2.nrc.gov/webSearch2/main.jsp?AccessionNumber=ML23074A192',\n",
       " 'https://adamswebsearch2.nrc.gov/webSearch2/main.jsp?AccessionNumber=ML23121A105',\n",
       " 'https://adamswebsearch2.nrc.gov/webSearch2/main.jsp?AccessionNumber=ML23110A664',\n",
       " 'https://adamswebsearch2.nrc.gov/webSearch2/main.jsp?AccessionNumber=ML23032A427',\n",
       " 'https://adamswebsearch2.nrc.gov/webSearch2/main.jsp?AccessionNumber=ML23075A170',\n",
       " 'https://adamswebsearch2.nrc.gov/webSearch2/main.jsp?AccessionNumber=ML23114A094',\n",
       " 'https://adamswebsearch2.nrc.gov/webSearch2/main.jsp?AccessionNumber=ML23131A351',\n",
       " 'https://adamswebsearch2.nrc.gov/webSearch2/main.jsp?AccessionNumber=ML23123A122',\n",
       " 'https://adamswebsearch2.nrc.gov/webSearch2/main.jsp?AccessionNumber=ML23132A143',\n",
       " 'https://adamswebsearch2.nrc.gov/webSearch2/main.jsp?AccessionNumber=ML23132A307',\n",
       " 'https://adamswebsearch2.nrc.gov/webSearch2/main.jsp?AccessionNumber=ML23047A033',\n",
       " 'https://adamswebsearch2.nrc.gov/webSearch2/main.jsp?AccessionNumber=ML23114A048',\n",
       " 'https://adamswebsearch2.nrc.gov/webSearch2/main.jsp?AccessionNumber=ML23121A320',\n",
       " 'https://adamswebsearch2.nrc.gov/webSearch2/main.jsp?AccessionNumber=ML23129A022',\n",
       " 'https://adamswebsearch2.nrc.gov/webSearch2/main.jsp?AccessionNumber=ML23107A171',\n",
       " 'https://adamswebsearch2.nrc.gov/webSearch2/main.jsp?AccessionNumber=ML23025A384',\n",
       " 'https://adamswebsearch2.nrc.gov/webSearch2/main.jsp?AccessionNumber=ML23110A762',\n",
       " 'https://adamswebsearch2.nrc.gov/webSearch2/main.jsp?AccessionNumber=ML23068A133',\n",
       " 'https://adamswebsearch2.nrc.gov/webSearch2/main.jsp?AccessionNumber=ML23123A054',\n",
       " 'https://adamswebsearch2.nrc.gov/webSearch2/main.jsp?AccessionNumber=ML23032A374',\n",
       " 'https://adamswebsearch2.nrc.gov/webSearch2/main.jsp?AccessionNumber=ML23102A200',\n",
       " 'https://adamswebsearch2.nrc.gov/webSearch2/main.jsp?AccessionNumber=ML23111A066']"
      ]
     },
     "execution_count": 40,
     "metadata": {},
     "output_type": "execute_result"
    }
   ],
   "source": [
    "inspection_id_urls_list = []\n",
    "\n",
    "for inspection_id in inspection_ids:\n",
    "    updated_id_links = base_url + inspection_id\n",
    "    inspection_id_urls_list.append(updated_id_links)\n",
    "\n",
    "inspection_id_urls_list"
   ]
  },
  {
   "cell_type": "code",
   "execution_count": 41,
   "id": "e329e3c3-54f6-4e85-9ddf-c4542657355a",
   "metadata": {},
   "outputs": [],
   "source": [
    "inspection_ids_pdfs = [\n",
    "    \"ML23129A788.pdf\", \"ML23067A022.pdf\", \"ML23128A148.pdf\", \"ML23124A225.pdf\", \"ML23082A034.pdf\", \"ML23067A024.pdf\", \n",
    "    \"ML23115A000.pdf\", \"ML23048A062.pdf\", \"ML23122A221.pdf\", \"ML23128A351.pdf\", \"ML23089A119.pdf\", \"ML23108A332.pdf\", \n",
    "    \"ML23124A386.pdf\", \"ML23088A167.pdf\", \"ML23102A139.pdf\", \"ML23114A173.pdf\", \"ML23059A274.pdf\", \"ML23114A383.pdf\", \n",
    "    \"ML23124A007.pdf\", \"ML23123A414.pdf\", \"ML23054A359.pdf\", \"ML23122A076.pdf\", \"ML23089A166.pdf\", \"ML23080A298.pdf\", \n",
    "    \"ML23102A149.pdf\", \"ML23023A058.pdf\", \"ML23060A158.pdf\", \"ML23101A121.pdf\", \"ML23074A227.pdf\", \"ML23030B899.pdf\", \n",
    "    \"ML23122A100.pdf\", \"ML23116A173.pdf\", \"ML23025A407.pdf\", \"ML23072A423.pdf\", \"ML23068A069.pdf\", \"ML23121A139.pdf\", \n",
    "    \"ML23023A100.pdf\", \"ML23110A634.pdf\", \"ML23116A242.pdf\", \"ML23068A150.pdf\", \"ML23124A273.pdf\", \"ML23089A399.pdf\", \n",
    "    \"ML23089A355.pdf\", \"ML23102A039.pdf\", \"ML23122A168.pdf\", \"ML23044A155.pdf\", \"ML23075A135.pdf\", \"ML23095A085.pdf\", \n",
    "    \"ML23123A168.pdf\", \"ML23116A012.pdf\", \"ML23062A449.pdf\", \"ML23110A800.pdf\", \"ML23095A332.pdf\", \"ML23089A021.pdf\", \n",
    "    \"ML23073A029.pdf\", \"ML23129A251.pdf\", \"ML23111A294.pdf\", \"ML23118A051.pdf\", \"ML23116A003.pdf\", \"ML23130A218.pdf\", \n",
    "    \"ML23038A012.pdf\", \"ML23118A027.pdf\", \"ML23118A014.pdf\", \"ML23125A125.pdf\", \"ML23026A048.pdf\", \"ML23122A162.pdf\", \n",
    "    \"ML23124A108.pdf\", \"ML23125A005.pdf\", \"ML23118A017.pdf\", \"ML23104A043.pdf\", \"ML23130A412.pdf\", \"ML23088A360.pdf\", \n",
    "    \"ML23053A079.pdf\", \"ML23124A062.pdf\", \"ML23103A264.pdf\", \"ML23086A209.pdf\", \"ML23069A019.pdf\", \"ML23128A135.pdf\", \n",
    "    \"ML23122A272.pdf\", \"ML23053A049.pdf\", \"ML23053A049.pdf\", \"ML23121A104.pdf\", \"ML23130A172.pdf\", \"ML23128A101.pdf\", \n",
    "    \"ML23102A294.pdf\", \"ML23116A235.pdf\", \"ML23121A172.pdf\", \"ML23075A146.pdf\", \"ML23123A065.pdf\", \"ML23066A013.pdf\", \n",
    "    \"ML23122A217.pdf\", \"ML23052A056.pdf\", \"ML23129A193.pdf\", \"ML23103A395.pdf\", \"ML23044A099.pdf\", \"ML23102A113.pdf\", \n",
    "    \"ML23033A155.pdf\", \"ML23121A321.pdf\", \"ML23074A192.pdf\", \"ML23121A105.pdf\", \"ML23110A664.pdf\", \"ML23032A427.pdf\", \n",
    "    \"ML23075A170.pdf\", \"ML23114A094.pdf\", \"ML23131A351.pdf\", \"ML23123A122.pdf\", \"ML23132A143.pdf\", \"ML23132A307.pdf\", \n",
    "    \"ML23047A033.pdf\", \"ML23114A048.pdf\", \"ML23121A320.pdf\", \"ML23129A022.pdf\", \"ML23107A171.pdf\", \"ML23025A384.pdf\", \n",
    "    \"ML23110A762.pdf\", \"ML23068A133.pdf\", \"ML23123A054.pdf\", \"ML23032A374.pdf\", \"ML23102A200.pdf\", \"ML23111A066.pdf\"\n",
    "]\n"
   ]
  },
  {
   "cell_type": "code",
   "execution_count": 42,
   "id": "83f1cc43-774e-464e-8b4d-64cfc184aeb9",
   "metadata": {},
   "outputs": [],
   "source": [
    "def extract_text_from_pdf(pdf_path):\n",
    "    doc = pymupdf4llm.open(pdf_path)\n",
    "    \n",
    "    text = \"\"\n",
    "    for page_num in range(doc.page_count):\n",
    "        page = doc.load_page(page_num)\n",
    "        text += page.get_text(\"text\")\n",
    "    \n",
    "    return text"
   ]
  },
  {
   "cell_type": "code",
   "execution_count": 43,
   "id": "f05f5eed-12cd-4431-a42a-a832e6ddf7d6",
   "metadata": {},
   "outputs": [],
   "source": [
    "def apply_regex_to_text(text, pattern):\n",
    "    return re.findall(pattern, text)"
   ]
  },
  {
   "cell_type": "code",
   "execution_count": 44,
   "id": "f3e336cf-9f97-4a1f-938c-c32eb3062830",
   "metadata": {},
   "outputs": [],
   "source": [
    "inspectdate_pat = r\"(?<=completed an inspection\\s+at.*?)(\\w+\\s+\\d{1,2},\\s+\\d{4})\"\n",
    "plantname_pat = r\"SUBJECT:\\s(\\w+(\\s\\w+)*)\"\n",
    "violation_pat = r\"(?:violation|apparent violation.*?)(?:\\(\\w+\\))?\""
   ]
  },
  {
   "cell_type": "code",
   "execution_count": 45,
   "id": "9d9f7891-ae99-45cf-802d-c4a34aa2d92c",
   "metadata": {},
   "outputs": [],
   "source": [
    "df = pd.DataFrame(columns=['Plant Name', 'Inspection Date', 'Violation?'])"
   ]
  },
  {
   "cell_type": "code",
   "execution_count": 46,
   "id": "a3f9417f-a14d-4b48-8389-f4de40141466",
   "metadata": {},
   "outputs": [],
   "source": [
    "pdf_files = glob.glob(\"*.pdf\")"
   ]
  },
  {
   "cell_type": "code",
   "execution_count": 48,
   "id": "fcf71e4c-7856-43bf-a8e4-48b6ee3d4b69",
   "metadata": {},
   "outputs": [
    {
     "name": "stdout",
     "output_type": "stream",
     "text": [
      "Requirement already satisfied: PyMuPDF in /Users/ray/Library/jupyterlab-desktop/jlab_server/lib/python3.12/site-packages (1.24.13)\n",
      "Note: you may need to restart the kernel to use updated packages.\n"
     ]
    }
   ],
   "source": [
    "pip install PyMuPDF\n"
   ]
  },
  {
   "cell_type": "code",
   "execution_count": 54,
   "id": "d7c6ac10-5958-4b5e-8c9e-5ec2fbd8d265",
   "metadata": {},
   "outputs": [
    {
     "name": "stdout",
     "output_type": "stream",
     "text": [
      "                                    Plant Name   Inspection Date Violation?\n",
      "0                               (DONALD C,  C)  January 17, 2023  violation\n",
      "1                                          n/a               n/a        n/a\n",
      "2                                          n/a               n/a        n/a\n",
      "3          (POINT BEACH NUCLEAR PLANT,  PLANT)    April 10, 2023  violation\n",
      "4                                          n/a               n/a        n/a\n",
      "..                                         ...               ...        ...\n",
      "102                                        n/a               n/a        n/a\n",
      "103  (DRESDEN NUCLEAR POWER STATION,  STATION)    April 12, 2023  violation\n",
      "104     (SHEARON HARRIS NUCLEAR PLANT,  PLANT)       May 8, 2023  violation\n",
      "105                                        n/a               n/a        n/a\n",
      "106                                        n/a               n/a        n/a\n",
      "\n",
      "[107 rows x 3 columns]\n"
     ]
    }
   ],
   "source": [
    "def extract_text_from_pdf(pdf_path):\n",
    "    doc = fitz.open(pdf_path)\n",
    "    \n",
    "    text = \"\"\n",
    "    for page_num in range(doc.page_count):\n",
    "        page = doc.load_page(page_num)\n",
    "        text += page.get_text(\"text\")\n",
    "    \n",
    "    return text\n",
    "\n",
    "data = []\n",
    "\n",
    "pdf_files = glob.glob(\"*.pdf\")\n",
    "\n",
    "for pdf_file in pdf_files:\n",
    "    text = extract_text_from_pdf(pdf_file)\n",
    "    \n",
    "    plant_name = re.findall(plantname_pat, text)\n",
    "    date = re.findall(inspectdate_pat, text)\n",
    "    violation = re.findall(violation_pat, text)\n",
    "    \n",
    "    if plant_name and date and violation:\n",
    "        data.append({\n",
    "            'Plant Name': plant_name[0],\n",
    "            'Inspection Date': date[0],\n",
    "            'Violation?': violation[0]\n",
    "        })\n",
    "    else:\n",
    "        data.append({\n",
    "            'Plant Name': \"n/a\",\n",
    "            'Inspection Date': \"n/a\",\n",
    "            'Violation?': \"n/a\"\n",
    "        })\n",
    "\n",
    "df = pd.DataFrame(data)\n",
    "\n",
    "print(df)\n"
   ]
  },
  {
   "cell_type": "code",
   "execution_count": 55,
   "id": "b8984069-df77-40f3-abcd-b31797efc131",
   "metadata": {},
   "outputs": [],
   "source": [
    "df.to_csv('nucplantviolations.csv', index=False)"
   ]
  },
  {
   "cell_type": "code",
   "execution_count": null,
   "id": "672f34bd-7ace-4a33-9d2d-52879f295890",
   "metadata": {},
   "outputs": [],
   "source": []
  }
 ],
 "metadata": {
  "kernelspec": {
   "display_name": "Python 3 (ipykernel)",
   "language": "python",
   "name": "python3"
  },
  "language_info": {
   "codemirror_mode": {
    "name": "ipython",
    "version": 3
   },
   "file_extension": ".py",
   "mimetype": "text/x-python",
   "name": "python",
   "nbconvert_exporter": "python",
   "pygments_lexer": "ipython3",
   "version": "3.12.2"
  }
 },
 "nbformat": 4,
 "nbformat_minor": 5
}
